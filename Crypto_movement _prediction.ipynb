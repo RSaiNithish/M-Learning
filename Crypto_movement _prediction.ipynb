{
 "cells": [
  {
   "cell_type": "markdown",
   "metadata": {},
   "source": [
    "# Directional Forecasting in Cryptocurrencies\n",
    "Author: Sai Nithish\n",
    "\n",
    "This code predicts the next-minute price direction of a cryptocurrency using historical OHLCV data. \n",
    "It calculates various technical indicators (like RSI, Moving Averages, Bollinger Bands, MACD, and Pivot Points) \n",
    "and lagged features (previous open, high, low, close, and volume) to capture market trends and momentum. \n",
    "These enriched features are then used to train and test a model for price movement classification.\n"
   ]
  },
  {
   "cell_type": "markdown",
   "metadata": {},
   "source": [
    "## Importing neccessary libraries"
   ]
  },
  {
   "cell_type": "code",
   "execution_count": 9,
   "metadata": {},
   "outputs": [],
   "source": [
    "import pandas as pd\n",
    "import numpy as np\n",
    "import ta  \n",
    "from sklearn.model_selection import train_test_split, GridSearchCV\n",
    "from sklearn.linear_model import LogisticRegression\n",
    "from sklearn.ensemble import RandomForestClassifier, GradientBoostingClassifier\n",
    "from sklearn.metrics import classification_report, confusion_matrix\n",
    "import matplotlib.pyplot as plt\n",
    "from sklearn.impute import SimpleImputer"
   ]
  },
  {
   "cell_type": "markdown",
   "metadata": {},
   "source": [
    "## Loading data"
   ]
  },
  {
   "cell_type": "code",
   "execution_count": 14,
   "metadata": {},
   "outputs": [],
   "source": [
    "\n",
    "train_data = pd.read_csv('data/train.csv')\n",
    "test_data = pd.read_csv('data/test.csv')"
   ]
  },
  {
   "cell_type": "markdown",
   "metadata": {},
   "source": [
    "## Feature engineering and data preparation"
   ]
  },
  {
   "cell_type": "code",
   "execution_count": null,
   "metadata": {},
   "outputs": [],
   "source": [
    "# Copy data\n",
    "data = train_data.copy()\n",
    "data['timestamp'] = pd.to_datetime(data['timestamp'], unit='s')\n",
    "\n",
    "# Calculate Technical Indicators\n",
    "# RSI (Relative Strength Index)\n",
    "data['rsi'] = ta.momentum.RSIIndicator(close=data['close'], window=14).rsi()\n",
    "\n",
    "# Moving Averages\n",
    "data['sma_10'] = data['close'].rolling(window=10).mean()\n",
    "data['sma_30'] = data['close'].rolling(window=30).mean()\n",
    "\n",
    "# Exponential Moving Average (EMA)\n",
    "data['ema_10'] = data['close'].ewm(span=10, adjust=False).mean()\n",
    "data['ema_30'] = data['close'].ewm(span=30, adjust=False).mean()\n",
    "\n",
    "# Bollinger Bands\n",
    "data['bollinger_mavg'] = data['close'].rolling(window=20).mean()\n",
    "data['bollinger_std'] = data['close'].rolling(window=20).std()\n",
    "data['bollinger_upper'] = data['bollinger_mavg'] + (data['bollinger_std'] * 2)\n",
    "data['bollinger_lower'] = data['bollinger_mavg'] - (data['bollinger_std'] * 2)\n",
    "\n",
    "# MACD (Moving Average Convergence Divergence)\n",
    "data['macd'] = ta.trend.MACD(data['close']).macd()\n",
    "data['macd_signal'] = ta.trend.MACD(data['close']).macd_signal()\n",
    "data['macd_diff'] = ta.trend.MACD(data['close']).macd_diff()\n",
    "\n",
    "# Pivot Points\n",
    "data['pivot'] = (data['high'] + data['low'] + data['close']) / 3\n",
    "\n",
    "# Lagged Features\n",
    "data['lag_close'] = data['close'].shift(1)\n",
    "data['lag_open'] = data['open'].shift(1)\n",
    "data['lag_high'] = data['high'].shift(1)\n",
    "data['lag_low'] = data['low'].shift(1)\n",
    "data['lag_volume'] = data['volume'].shift(1)\n",
    "\n",
    "# Additional Indicators\n",
    "data['roc'] = ta.momentum.ROCIndicator(close=data['close'], window=10).roc()\n",
    "data['obv'] = ta.volume.OnBalanceVolumeIndicator(close=data['close'], volume=data['volume']).on_balance_volume()\n",
    "data['stoch_k'] = ta.momentum.StochasticOscillator(high=data['high'], low=data['low'], close=data['close'], window=14).stoch()\n",
    "data['atr'] = ta.volatility.AverageTrueRange(high=data['high'], low=data['low'], close=data['close'], window=14).average_true_range()\n",
    "data['williams_r'] = ta.momentum.WilliamsRIndicator(high=data['high'], low=data['low'], close=data['close'], lbp=14).williams_r()\n",
    "data['adi'] = ta.volume.AccDistIndexIndicator(high=data['high'], low=data['low'], close=data['close'], volume=data['volume']).acc_dist_index()\n",
    "data['cci'] = ta.trend.CCIIndicator(high=data['high'], low=data['low'], close=data['close'], window=20).cci()\n",
    "data['vol_sma_10'] = data['volume'].rolling(window=10).mean()\n",
    "data['vol_sma_30'] = data['volume'].rolling(window=30).mean()\n",
    "data['rel_vol'] = data['volume'] / data['volume'].rolling(window=30).mean()\n",
    "\n",
    "data.dropna(inplace=True)\n",
    "\n",
    "# Define features and target\n",
    "features = ['open', 'high', 'low', 'close', 'volume', 'rsi', 'sma_10', 'sma_30', 'ema_10', 'ema_30', \n",
    "            'bollinger_upper', 'bollinger_lower', 'macd', 'macd_signal', 'macd_diff', 'pivot', \n",
    "            'lag_close', 'lag_open', 'lag_high', 'lag_low', 'lag_volume', 'roc', 'obv', \n",
    "            'stoch_k', 'atr', 'williams_r', 'adi', 'cci', 'vol_sma_10', 'vol_sma_30', 'rel_vol']\n",
    "target = 'target'\n",
    "\n",
    "# Split data\n",
    "X = data[features]\n",
    "y = data[target]\n",
    "X_train, X_test, y_train, y_test = train_test_split(X, y, test_size=0.2, random_state=42)\n"
   ]
  },
  {
   "cell_type": "markdown",
   "metadata": {},
   "source": [
    "## Logistic Regression"
   ]
  },
  {
   "cell_type": "code",
   "execution_count": null,
   "metadata": {},
   "outputs": [],
   "source": [
    "\n",
    "logistic_model = LogisticRegression(max_iter=1000)\n",
    "logistic_model.fit(X_train, y_train)\n",
    "y_pred_logistic = logistic_model.predict(X_test)\n",
    "\n",
    "print(\"Logistic Regression Results:\")\n",
    "print(confusion_matrix(y_test, y_pred_logistic))\n",
    "print(classification_report(y_test, y_pred_logistic))\n",
    "\n"
   ]
  },
  {
   "cell_type": "markdown",
   "metadata": {},
   "source": [
    "## Random Forest Classifier"
   ]
  },
  {
   "cell_type": "code",
   "execution_count": null,
   "metadata": {},
   "outputs": [],
   "source": [
    "\n",
    "rf_model = RandomForestClassifier(random_state=42)\n",
    "rf_model.fit(X_train, y_train)\n",
    "y_pred_rf = rf_model.predict(X_test)\n",
    "\n",
    "print(\"Random Forest Results:\")\n",
    "print(confusion_matrix(y_test, y_pred_rf))\n",
    "print(classification_report(y_test, y_pred_rf))\n"
   ]
  },
  {
   "cell_type": "markdown",
   "metadata": {},
   "source": [
    "## Gradient Boosting Classifier"
   ]
  },
  {
   "cell_type": "code",
   "execution_count": null,
   "metadata": {},
   "outputs": [],
   "source": [
    "\n",
    "gb_model = GradientBoostingClassifier(random_state=42)\n",
    "gb_model.fit(X_train, y_train)\n",
    "y_pred_gb = gb_model.predict(X_test)\n",
    "\n",
    "print(\"Gradient Boosting Results:\")\n",
    "print(confusion_matrix(y_test, y_pred_gb))\n",
    "print(classification_report(y_test, y_pred_gb))"
   ]
  },
  {
   "cell_type": "markdown",
   "metadata": {},
   "source": [
    "## Hyperparameter Tuning for Random Forest"
   ]
  },
  {
   "cell_type": "code",
   "execution_count": null,
   "metadata": {},
   "outputs": [],
   "source": [
    "\n",
    "param_grid = {\n",
    "    'n_estimators': [50, 100, 200],\n",
    "    'max_depth': [None, 10, 20],\n",
    "    'min_samples_split': [2, 5, 10],\n",
    "}\n",
    "\n",
    "grid_search = GridSearchCV(RandomForestClassifier(random_state=42), param_grid, cv=3)\n",
    "grid_search.fit(X_train, y_train)\n",
    "\n",
    "best_rf_model = grid_search.best_estimator_\n",
    "y_pred_best_rf = best_rf_model.predict(X_test)\n",
    "\n",
    "print(\"Best Random Forest Results after Hyperparameter Tuning:\")\n",
    "print(confusion_matrix(y_test, y_pred_best_rf))\n",
    "print(classification_report(y_test, y_pred_best_rf))\n",
    "\n"
   ]
  },
  {
   "cell_type": "markdown",
   "metadata": {},
   "source": [
    "## Testing"
   ]
  },
  {
   "cell_type": "code",
   "execution_count": null,
   "metadata": {},
   "outputs": [],
   "source": [
    "\n",
    "test_data = test_data.copy()\n",
    "test_data['timestamp'] = pd.to_datetime(test_data['timestamp'], unit='s')\n",
    "\n",
    "# Calculate Technical Indicators\n",
    "test_data['rsi'] = ta.momentum.RSIIndicator(close=test_data['close'], window=14).rsi()\n",
    "test_data['sma_10'] = test_data['close'].rolling(window=10).mean()\n",
    "test_data['sma_30'] = test_data['close'].rolling(window=30).mean()\n",
    "test_data['ema_10'] = test_data['close'].ewm(span=10, adjust=False).mean()\n",
    "test_data['ema_30'] = test_data['close'].ewm(span=30, adjust=False).mean()\n",
    "\n",
    "# Bollinger Bands\n",
    "test_data['bollinger_mavg'] = test_data['close'].rolling(window=20).mean()\n",
    "test_data['bollinger_std'] = test_data['close'].rolling(window=20).std()\n",
    "test_data['bollinger_upper'] = test_data['bollinger_mavg'] + (test_data['bollinger_std'] * 2)\n",
    "test_data['bollinger_lower'] = test_data['bollinger_mavg'] - (test_data['bollinger_std'] * 2)\n",
    "\n",
    "# MACD\n",
    "test_data['macd'] = ta.trend.MACD(test_data['close']).macd()\n",
    "test_data['macd_signal'] = ta.trend.MACD(test_data['close']).macd_signal()\n",
    "test_data['macd_diff'] = ta.trend.MACD(test_data['close']).macd_diff()\n",
    "\n",
    "# Pivot Points\n",
    "test_data['pivot'] = (test_data['high'] + test_data['low'] + test_data['close']) / 3\n",
    "\n",
    "# Lagged Features\n",
    "test_data['lag_close'] = test_data['close'].shift(1)\n",
    "test_data['lag_open'] = test_data['open'].shift(1)\n",
    "test_data['lag_high'] = test_data['high'].shift(1)\n",
    "test_data['lag_low'] = test_data['low'].shift(1)\n",
    "test_data['lag_volume'] = test_data['volume'].shift(1)\n",
    "\n",
    "# Additional Indicators\n",
    "test_data['roc'] = ta.momentum.ROCIndicator(close=test_data['close'], window=10).roc()\n",
    "test_data['obv'] = ta.volume.OnBalanceVolumeIndicator(close=test_data['close'], volume=test_data['volume']).on_balance_volume()\n",
    "test_data['stoch_k'] = ta.momentum.StochasticOscillator(high=test_data['high'], low=test_data['low'], close=test_data['close'], window=14).stoch()\n",
    "test_data['atr'] = ta.volatility.AverageTrueRange(high=test_data['high'], low=test_data['low'], close=test_data['close'], window=14).average_true_range()\n",
    "test_data['williams_r'] = ta.momentum.WilliamsRIndicator(high=test_data['high'], low=test_data['low'], close=test_data['close'], lbp=14).williams_r()\n",
    "test_data['adi'] = ta.volume.AccDistIndexIndicator(high=test_data['high'], low=test_data['low'], close=test_data['close'], volume=test_data['volume']).acc_dist_index()\n",
    "test_data['cci'] = ta.trend.CCIIndicator(high=test_data['high'], low=test_data['low'], close=test_data['close'], window=20).cci()\n",
    "test_data['vol_sma_10'] = test_data['volume'].rolling(window=10).mean()\n",
    "test_data['vol_sma_30'] = test_data['volume'].rolling(window=30).mean()\n",
    "test_data['rel_vol'] = test_data['volume'] / test_data['volume'].rolling(window=30).mean()\n",
    "\n",
    "\n",
    "test_data.dropna(inplace=True)\n",
    "\n",
    "\n",
    "X_test_final = test_data[features]\n",
    "\n",
    "\n",
    "imputer = SimpleImputer(strategy='mean')  \n",
    "X_test_final_imputed = imputer.fit_transform(X_test_final)\n",
    "\n",
    "\n",
    "y_pred_test = logistic_model.predict(X_test_final_imputed)\n",
    "\n",
    "\n",
    "test_data['target'] = y_pred_test\n",
    "\n",
    "\n",
    "test_data[['row_id', 'target']].to_csv('predictions.csv', index=False)\n",
    "\n",
    "print(\"Predictions saved to predictions.csv.\")\n"
   ]
  }
 ],
 "metadata": {
  "kernelspec": {
   "display_name": "Python 3",
   "language": "python",
   "name": "python3"
  },
  "language_info": {
   "codemirror_mode": {
    "name": "ipython",
    "version": 3
   },
   "file_extension": ".py",
   "mimetype": "text/x-python",
   "name": "python",
   "nbconvert_exporter": "python",
   "pygments_lexer": "ipython3",
   "version": "3.9.6"
  }
 },
 "nbformat": 4,
 "nbformat_minor": 2
}
