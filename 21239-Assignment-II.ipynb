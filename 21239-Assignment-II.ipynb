{
 "cells": [
  {
   "cell_type": "markdown",
   "metadata": {},
   "source": [
    "# Review Questions-I from MDSC-301(P)\n",
    "\n",
    "----------------------------------------------------------------\n",
    "Sai Nithish\n",
    "\n",
    "21239\n",
    "\n",
    "----------------------------------------------------------------"
   ]
  },
  {
   "cell_type": "markdown",
   "metadata": {},
   "source": [
    "**Q1. Which Linear Regression training algorithm can you use if you have\n",
    "a training set with millions of features?**"
   ]
  },
  {
   "cell_type": "markdown",
   "metadata": {},
   "source": [
    "Gradient Descent algorithms:\n",
    " - Batch Gradient Descent\n",
    " - Mini-Batch Gradient Descent\n",
    " - Stochastic Gradient Descent\n",
    " \n",
    " <br>"
   ]
  },
  {
   "cell_type": "markdown",
   "metadata": {},
   "source": [
    "**Q2. Suppose the features in your training set have very different scales.\n",
    "Which algorithms might suffer from this, and how? What can you\n",
    "do about it?**"
   ]
  },
  {
   "cell_type": "markdown",
   "metadata": {},
   "source": [
    "Gradient Descent algorithm, as the features with higher values might affect the algorithm's performance to reach minima\n",
    "\n",
    "We can overcome this by feature scaling:\n",
    " - Normalization(Min Max scaling):\n",
    " $ x _{norm} = \\frac{x - x _{min}}{x _{max} - x _{min}}$\n",
    " - Standardization:\n",
    " $ x _{std} = \\frac{x - \\bar x}{\\sigma}$\n",
    "\n",
    "or by increasing the learning rate\n",
    "\n",
    "<br>"
   ]
  },
  {
   "cell_type": "markdown",
   "metadata": {},
   "source": [
    "**Q3.  Suppose you use Batch Gradient Descent and you plot the validation\n",
    "error at every epoch. If you notice that the validation error\n",
    "consistently goes up, what is likely going on? How can you fix this?**"
   ]
  },
  {
   "cell_type": "markdown",
   "metadata": {},
   "source": [
    "If the validation error is significantly higher than the training error, then it means that the model is overfitting on the train data and we should stop the training.\n",
    "\n",
    "We can overcome this by regularization\n",
    "\n",
    "<br>"
   ]
  },
  {
   "cell_type": "markdown",
   "metadata": {},
   "source": [
    "**Q4. Is it a good idea to stop Mini-batch Gradient Descent immediately\n",
    "when the validation error goes up?**"
   ]
  },
  {
   "cell_type": "markdown",
   "metadata": {},
   "source": [
    "Mini-batch gradient descent algorithm trains on a set of randomly selected training examples, it is possible for the validation error to be larger for a particular set of examples. Therefore stopping the algorithm is not a good idea.\n",
    "\n",
    "<br>"
   ]
  },
  {
   "cell_type": "markdown",
   "metadata": {},
   "source": [
    "**Q5. Suppose you are using Polynomial Regression. You plot the learning\n",
    "curves and you notice that there is a large gap between the training\n",
    "error and the validation error. What is happening? What are three\n",
    "ways to solve this?**"
   ]
  },
  {
   "cell_type": "markdown",
   "metadata": {},
   "source": [
    "Model is overfitting, we can solve this by:\n",
    " - Regularization\n",
    " - K-fold Cross Validation\n",
    " - Reducing the degree of polynomial\n",
    "\n",
    " <br>"
   ]
  },
  {
   "cell_type": "markdown",
   "metadata": {},
   "source": [
    "**Q6. Suppose you are using Ridge Regression and you notice that the\n",
    "training error and the validation error are almost equal and fairly\n",
    "high. Would you say that the model suffers from high bias or high\n",
    "variance? Should you increase the regularization hyperparameter $\\alpha$\n",
    "or reduce it?**"
   ]
  },
  {
   "cell_type": "markdown",
   "metadata": {},
   "source": [
    "When the training error and the validation error are equally high then the model is underfitting. High bias leads to underfit, thus the model is suffereing from high bias and we need to reduce $\\alpha$\n",
    "\n",
    "<br>"
   ]
  },
  {
   "cell_type": "markdown",
   "metadata": {},
   "source": [
    "**Q7. Why would you want to use:**\n",
    "   - Ridge Regression instead of plain Linear Regression (i.e., without any regularization)?\n",
    "   - Lasso instead of Ridge Regression?\n",
    "   - Elastic Net instead of Lasso?"
   ]
  },
  {
   "cell_type": "markdown",
   "metadata": {},
   "source": [
    " - Ridge regression is used to overcome overfitting as it has the regularization which is not present in linear regression\n",
    " - Lasso regression is used as it as the feature selection builtin into the algorithm as it does not give importance to insignificant values\n",
    " - Elastic Net is combination of both Ridge regression and lasso regression, lasso regression suffers with multicollinearity.\n",
    "\n",
    " <br>"
   ]
  },
  {
   "cell_type": "markdown",
   "metadata": {},
   "source": [
    "**Q8.  Can you name four of the main challenges in Machine Learning?**"
   ]
  },
  {
   "cell_type": "markdown",
   "metadata": {},
   "source": [
    "1. Lack of quality data\n",
    "2. Quanity of data \n",
    "3. Underfitting and Overfitting \n",
    "4. Non-representative data\n",
    "\n",
    "<br>"
   ]
  },
  {
   "cell_type": "markdown",
   "metadata": {},
   "source": [
    "**Q9. If your model performs great on the training data but generalizes\n",
    "poorly to new instances, what is happening? Can you name three\n",
    "possible solutions?**"
   ]
  },
  {
   "cell_type": "markdown",
   "metadata": {},
   "source": [
    "Model is overfitting, we can solve this by:\n",
    " - Regularization\n",
    " - K-fold Cross Validation\n",
    " - Reducing the degree of polynomial\n",
    "\n",
    " <br>"
   ]
  },
  {
   "cell_type": "markdown",
   "metadata": {},
   "source": [
    "**Q10. What is a test set, and why would you want to use it?**"
   ]
  },
  {
   "cell_type": "markdown",
   "metadata": {},
   "source": [
    "Test set is a subset of the original data set, which is unseen by the model while training so that we can measure the performance of the model after training.\n",
    "\n",
    "<br>"
   ]
  },
  {
   "cell_type": "markdown",
   "metadata": {},
   "source": [
    "**Q11.  What is the purpose of a validation set?**"
   ]
  },
  {
   "cell_type": "markdown",
   "metadata": {},
   "source": [
    "Validation set is a subset of training set, which is used to measure the performance of the model during training for each epoch. This can be used to check if the model is overfitting.\n",
    "\n",
    "<br>"
   ]
  },
  {
   "cell_type": "markdown",
   "metadata": {},
   "source": [
    "**Q12. What are different loss functions? Exaplain their importance?**"
   ]
  },
  {
   "cell_type": "markdown",
   "metadata": {},
   "source": [
    " - **MSE: Mean Square Error**\n",
    "\n",
    "   - $ MSE = \\frac{\\sum_{i=1}^{n} (y_i-\\hat{y}_i)^2}{n}$\n",
    "\n",
    "   - Errors with larger values are penalized heavily compared to smaller one, MSE is differentiable\n",
    "- **RMSE: Root Mean Square Error**\n",
    "  - $ RMSE = \\sqrt{MSE} $\n",
    "\n",
    "  - In MSE order of loss is more than that of the data, so we take root of MSE to reduce the order of the loss function\n",
    "- **MAE: Mean Absolute Error**\n",
    "  - $ MAE = \\frac{\\sum_{i=1}^{n} |y_i-\\hat{y}_i|}{n}$\n",
    "\n",
    "  - Order of the data is maintained and also MAE score is directly proportional to the errors which it more interpretable\n",
    "\n",
    "- **Hinge Loss**\n",
    "  - $ L _{Hinge} = Max(0,1 - y \\hat y)$\n",
    "\n",
    "  - It is associated with soft-margin of support vector machines\n",
    "\n",
    "<br>"
   ]
  },
  {
   "cell_type": "markdown",
   "metadata": {},
   "source": [
    "**Q13. Explain the following**:\n",
    "- Gradient descent\n",
    "- Mini-batch gradient descent\n",
    "- Batch gradient, and\n",
    "- Stochastic Gradient Descent"
   ]
  },
  {
   "cell_type": "markdown",
   "metadata": {},
   "source": [
    "Gradient Descent\n",
    " - Optimization technique for minimizing the cost function\n",
    "\n",
    "Mini-Batch Gradient Descent\n",
    " - A set of examples is processed in each iteration\n",
    "\n",
    "Batch Gradient Descent\n",
    " - All examples are processed in a each iteration\n",
    "\n",
    "Stocastic Gradient Descent\n",
    " - Only one example is processed in each iteration\n",
    "\n",
    " <br>"
   ]
  },
  {
   "cell_type": "markdown",
   "metadata": {},
   "source": [
    "**Q14. What is learning rate?**"
   ]
  },
  {
   "cell_type": "markdown",
   "metadata": {},
   "source": [
    "Step size for loss improvement during gradient descent\n",
    "\n",
    "<br>"
   ]
  },
  {
   "cell_type": "markdown",
   "metadata": {},
   "source": [
    "**Q15. Define the following terms. Explain their importance in the data analysis.\n",
    "    - $R^2$\n",
    "    - Adjusted $R^2$**"
   ]
  },
  {
   "cell_type": "markdown",
   "metadata": {},
   "source": [
    " $$\n",
    " R^2 = 1 - \\frac{RSS}{TSS}\n",
    " $$\n",
    "\n",
    " $$\n",
    " R^2 _{Adj} = 1- \\frac{\\frac{RSS}{(n-k)}}{\\frac{TSS}{(n-1)}}\n",
    " $$\n",
    "\n",
    " - $R ^2$ gives the degree of variability in the target variable that is explained by the model or the independent variables.\n",
    " - The $R ^2$ either remains the same or increases with the addition of new independent variables that are redundant \n",
    " - $R^2 _{Adj}$ solves this problem by penalizing any addition of redundant independent variables\n",
    "\n",
    " <br>"
   ]
  },
  {
   "cell_type": "markdown",
   "metadata": {},
   "source": [
    "**Q16. Explain One-Hot Encoding and Label Encoding.**"
   ]
  },
  {
   "cell_type": "markdown",
   "metadata": {},
   "source": [
    "**One-Hot Encoding**: This encoding is used to encode the categorical variable values to numerical values without any order. this encoding will increase the number of features\n",
    "\n",
    "**Label Encoding**: This encoding is used to encode the categorical variable values to numerical values with some order. this encoding will not increase the number of features\n",
    "\n",
    "<br>"
   ]
  },
  {
   "cell_type": "markdown",
   "metadata": {},
   "source": [
    "**Q17. What are the assumption on Naive Bayes algorithm in classification?**\n"
   ]
  },
  {
   "cell_type": "markdown",
   "metadata": {},
   "source": [
    " - Features are independent\n",
    " - Prior probabilities are uniform or Empirical \n",
    " - Likelihood probabilities are Gaussian\n",
    "\n",
    " <br>"
   ]
  },
  {
   "cell_type": "markdown",
   "metadata": {},
   "source": [
    "**Q18. What is the difference between classification and regression?**"
   ]
  },
  {
   "cell_type": "markdown",
   "metadata": {},
   "source": [
    "Classification and Regression depends on the target variable,\n",
    " - If the target variable is categorical and if we need to predict the class then classification models are used\n",
    " - If the target variable is Numeric and if we need to estimate the numeric value then regression models are used\n",
    "\n",
    " <br>"
   ]
  },
  {
   "cell_type": "markdown",
   "metadata": {},
   "source": [
    "**Q19. How to ensure that the model is not overfitting?**"
   ]
  },
  {
   "cell_type": "markdown",
   "metadata": {},
   "source": [
    " - Regularization\n",
    " - K-fold Cross Validation\n",
    " - Reducing the degree of polynomial\n",
    "\n",
    " <br>"
   ]
  },
  {
   "cell_type": "markdown",
   "metadata": {},
   "source": [
    "**Q20. List the main advantage of Naive Bayes?**"
   ]
  },
  {
   "cell_type": "markdown",
   "metadata": {},
   "source": [
    " - The algorithm works faster and also simple to implement\n",
    " - It performs well with categorical input data\n",
    " - If conditional independence is true, then the algorithm performs really well\n",
    " - It is useful for multi-class classification\n",
    "\n",
    " <br>"
   ]
  },
  {
   "cell_type": "markdown",
   "metadata": {},
   "source": [
    "**Q21. What you shoud do when your model is suffereing from**:\n",
    "- Low bias and high variance?\n",
    "- High bias and low variance?"
   ]
  },
  {
   "cell_type": "markdown",
   "metadata": {},
   "source": [
    "**Low bias and high variance**: Overfit\n",
    " - Increase regularization term\n",
    " - Use Cross Validation\n",
    " - Reduce Complexity of the model\n",
    "\n",
    "**High bias and low variance**: Underfit\n",
    " - Decrease regularization term\n",
    " - Add more data\n",
    " - Train the model longer\n",
    "\n",
    " <br>"
   ]
  },
  {
   "cell_type": "markdown",
   "metadata": {},
   "source": [
    "**Q22. What is the 'Naive' in the Naive Bayes Classifier?**"
   ]
  },
  {
   "cell_type": "markdown",
   "metadata": {},
   "source": [
    "Naive Bayes classifier makes many assumptions which may not turn out to be correct for the real world data, because of these assumptions it is called Naive\n",
    "\n",
    "<br>"
   ]
  },
  {
   "cell_type": "markdown",
   "metadata": {},
   "source": [
    "**Q23. What is bias-variance tradeoff in Machine Learning ?**"
   ]
  },
  {
   "cell_type": "markdown",
   "metadata": {},
   "source": [
    "**Bias**: Error caused by simplfying the assumptions, high bias will lead to underfitting\n",
    "\n",
    "**Variance**: Inability to learn all parameters in a statistically robust way, high variance will lead to overfitting\n",
    "\n",
    "Bias-Variance Tradeoff is the tradeoff in minimizing the bias and variance of the model.\n",
    "\n",
    "<br>"
   ]
  },
  {
   "cell_type": "markdown",
   "metadata": {},
   "source": [
    "**Q24. Explain different trade-offs in Machine Learning algorithms?**"
   ]
  },
  {
   "cell_type": "markdown",
   "metadata": {},
   "source": [
    " - Bias-Variance Tradeoff\n",
    " - Precision-Recall Tradeoff\n",
    " - Fairness-Privacy Tradeoff\n",
    " - Accuracy-Interpretability Tradeoff\n",
    "\n",
    " <br>"
   ]
  },
  {
   "cell_type": "markdown",
   "metadata": {},
   "source": [
    "Q25. What is cross-validation and how it is useful in traing ML models?"
   ]
  },
  {
   "cell_type": "markdown",
   "metadata": {},
   "source": [
    "- Cross-validation is machine learning technique where resampling procedure is used to evaluate model, the train data is split into subsets which will be used for validation.\n",
    "- Cross-validation can be used to detect overfitting of the model."
   ]
  }
 ],
 "metadata": {
  "kernelspec": {
   "display_name": "Python 3.8.10 64-bit",
   "language": "python",
   "name": "python3"
  },
  "language_info": {
   "name": "python",
   "version": "3.8.10"
  },
  "orig_nbformat": 4,
  "vscode": {
   "interpreter": {
    "hash": "916dbcbb3f70747c44a77c7bcd40155683ae19c65e1c03b4aa3499c5328201f1"
   }
  }
 },
 "nbformat": 4,
 "nbformat_minor": 2
}
